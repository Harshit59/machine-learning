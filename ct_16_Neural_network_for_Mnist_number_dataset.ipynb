{
  "nbformat": 4,
  "nbformat_minor": 0,
  "metadata": {
    "kernelspec": {
      "name": "python3",
      "display_name": "Python 3"
    },
    "toc": {
      "nav_menu": {},
      "number_sections": true,
      "sideBar": true,
      "skip_h1_title": false,
      "toc_cell": true,
      "toc_position": {},
      "toc_section_display": "block",
      "toc_window_display": false
    },
    "colab": {
      "name": "ct 16  Neural_network_for_Mnist_number_dataset.ipynb",
      "provenance": [],
      "collapsed_sections": [],
      "include_colab_link": true
    },
    "accelerator": "GPU"
  },
  "cells": [
    {
      "cell_type": "markdown",
      "metadata": {
        "id": "view-in-github",
        "colab_type": "text"
      },
      "source": [
        "<a href=\"https://colab.research.google.com/github/Harshit59/machine-learning/blob/main/ct_16_Neural_network_for_Mnist_number_dataset.ipynb\" target=\"_parent\"><img src=\"https://colab.research.google.com/assets/colab-badge.svg\" alt=\"Open In Colab\"/></a>"
      ]
    },
    {
      "cell_type": "markdown",
      "metadata": {
        "toc": true,
        "id": "zQvT7bhRzp4e"
      },
      "source": [
        "<h1>Table of Contents<span class=\"tocSkip\"></span></h1>\n",
        "<div class=\"toc\" style=\"margin-top: 1em;\"><ul class=\"toc-item\"><li><span><a href=\"#Loading-the-MNIST-dataset-in-Keras\" data-toc-modified-id=\"Loading-the-MNIST-dataset-in-Keras-1\"><span class=\"toc-item-num\">1&nbsp;&nbsp;</span>Loading the MNIST dataset in Keras</a></span></li><li><span><a href=\"#The-network-architecture\" data-toc-modified-id=\"The-network-architecture-2\"><span class=\"toc-item-num\">2&nbsp;&nbsp;</span>The network architecture</a></span></li><li><span><a href=\"#The-compilation-step\" data-toc-modified-id=\"The-compilation-step-3\"><span class=\"toc-item-num\">3&nbsp;&nbsp;</span>The compilation step</a></span></li><li><span><a href=\"#Preparing-the-image-data\" data-toc-modified-id=\"Preparing-the-image-data-4\"><span class=\"toc-item-num\">4&nbsp;&nbsp;</span>Preparing the image data</a></span></li><li><span><a href=\"#Preparing-the-labels\" data-toc-modified-id=\"Preparing-the-labels-5\"><span class=\"toc-item-num\">5&nbsp;&nbsp;</span>Preparing the labels</a></span></li><li><span><a href=\"#Training-and-Testing\" data-toc-modified-id=\"Training-and-Testing-6\"><span class=\"toc-item-num\">6&nbsp;&nbsp;</span>Training and Testing</a></span></li></ul></div>"
      ]
    },
    {
      "cell_type": "markdown",
      "metadata": {
        "id": "GSee4zKUzp4i"
      },
      "source": [
        "# Loading the MNIST dataset in Keras"
      ]
    },
    {
      "cell_type": "code",
      "metadata": {
        "id": "6a8IveFHzp4l"
      },
      "source": [
        "from keras.datasets import mnist"
      ],
      "execution_count": 1,
      "outputs": []
    },
    {
      "cell_type": "code",
      "metadata": {
        "id": "LQPmnZ8xzp4v",
        "colab": {
          "base_uri": "https://localhost:8080/"
        },
        "outputId": "8cf7bf45-156a-4f77-c131-f380f23bba91"
      },
      "source": [
        "(train_images, train_labels), (test_images, test_labels) = mnist.load_data()"
      ],
      "execution_count": 2,
      "outputs": [
        {
          "output_type": "stream",
          "name": "stdout",
          "text": [
            "Downloading data from https://storage.googleapis.com/tensorflow/tf-keras-datasets/mnist.npz\n",
            "11493376/11490434 [==============================] - 0s 0us/step\n",
            "11501568/11490434 [==============================] - 0s 0us/step\n"
          ]
        }
      ]
    },
    {
      "cell_type": "markdown",
      "metadata": {
        "id": "mnZfS9HYzp4z"
      },
      "source": [
        "- The images are encoded as Numpy arrays, and the labels are an array of digits, ranging from 0 to 9."
      ]
    },
    {
      "cell_type": "code",
      "metadata": {
        "id": "VFdoffSmzp41",
        "outputId": "f006e815-4334-44db-c99e-c27865154b1a",
        "colab": {
          "base_uri": "https://localhost:8080/"
        }
      },
      "source": [
        "train_images.shape"
      ],
      "execution_count": 3,
      "outputs": [
        {
          "output_type": "execute_result",
          "data": {
            "text/plain": [
              "(60000, 28, 28)"
            ]
          },
          "metadata": {},
          "execution_count": 3
        }
      ]
    },
    {
      "cell_type": "code",
      "metadata": {
        "id": "tD65nC-vzp45",
        "outputId": "e8b2a133-739a-4290-8e8e-9743df5f4336",
        "colab": {
          "base_uri": "https://localhost:8080/"
        }
      },
      "source": [
        "len(train_labels)"
      ],
      "execution_count": 4,
      "outputs": [
        {
          "output_type": "execute_result",
          "data": {
            "text/plain": [
              "60000"
            ]
          },
          "metadata": {},
          "execution_count": 4
        }
      ]
    },
    {
      "cell_type": "code",
      "metadata": {
        "id": "IX9LpWNazp4_",
        "outputId": "08d4b13c-2299-4568-c334-e3a8d3e5e6b9",
        "colab": {
          "base_uri": "https://localhost:8080/"
        }
      },
      "source": [
        "train_labels"
      ],
      "execution_count": 5,
      "outputs": [
        {
          "output_type": "execute_result",
          "data": {
            "text/plain": [
              "array([5, 0, 4, ..., 5, 6, 8], dtype=uint8)"
            ]
          },
          "metadata": {},
          "execution_count": 5
        }
      ]
    },
    {
      "cell_type": "code",
      "metadata": {
        "id": "SG0L5p4Dzp5D",
        "outputId": "91138335-8c19-465a-893c-7cb73c424058",
        "colab": {
          "base_uri": "https://localhost:8080/"
        }
      },
      "source": [
        "test_images.shape"
      ],
      "execution_count": 6,
      "outputs": [
        {
          "output_type": "execute_result",
          "data": {
            "text/plain": [
              "(10000, 28, 28)"
            ]
          },
          "metadata": {},
          "execution_count": 6
        }
      ]
    },
    {
      "cell_type": "code",
      "metadata": {
        "id": "MimOH_Xnzp5I",
        "outputId": "6cda5bca-d734-4b9f-a876-9845488f92d5",
        "colab": {
          "base_uri": "https://localhost:8080/"
        }
      },
      "source": [
        "len(test_labels)"
      ],
      "execution_count": 7,
      "outputs": [
        {
          "output_type": "execute_result",
          "data": {
            "text/plain": [
              "10000"
            ]
          },
          "metadata": {},
          "execution_count": 7
        }
      ]
    },
    {
      "cell_type": "code",
      "metadata": {
        "id": "8EHR0v0Bzp5M",
        "outputId": "192c6529-5484-4678-c548-7ec70c0654fd",
        "colab": {
          "base_uri": "https://localhost:8080/"
        }
      },
      "source": [
        "test_labels"
      ],
      "execution_count": 8,
      "outputs": [
        {
          "output_type": "execute_result",
          "data": {
            "text/plain": [
              "array([7, 2, 1, ..., 4, 5, 6], dtype=uint8)"
            ]
          },
          "metadata": {},
          "execution_count": 8
        }
      ]
    },
    {
      "cell_type": "markdown",
      "metadata": {
        "id": "s0Tp6nDRzp5R"
      },
      "source": [
        "Let's build the network"
      ]
    },
    {
      "cell_type": "markdown",
      "metadata": {
        "id": "WxbJXg2Czp5T"
      },
      "source": [
        "# The network architecture"
      ]
    },
    {
      "cell_type": "markdown",
      "metadata": {
        "id": "kGCxNrDdzp5U"
      },
      "source": [
        "- The core building block of neural networks is the **layer**, a data-processing module that you can think of as a filter for data.\n",
        "    - Some data goes in, and it comes out in a more useful form.\n",
        "    - Layers extract **representations** (hopefully, meaningful for the data problem at hand) out of the data fed into them.\n",
        "    \n",
        "- Most of deep learning consists of chaining together simple layers that will implement a form of progressive **data distillation**.\n",
        "- A deep learning model is like a sieve for data-processing, made of a succession of increasingly refined data filters--**the layers**."
      ]
    },
    {
      "cell_type": "code",
      "metadata": {
        "id": "uyUqGjPTzp5V"
      },
      "source": [
        "from keras import models\n",
        "from keras import layers"
      ],
      "execution_count": 9,
      "outputs": []
    },
    {
      "cell_type": "code",
      "metadata": {
        "id": "NEVk0S9_zp5a"
      },
      "source": [
        "network = models.Sequential()\n",
        "# Dense(512) is a fully-connected layer with 512 hidden units.\n",
        "# in the first layer, you must specify the expected input data shape :\n",
        "# here, 28 X 28=784 -dimensional vectors.\n",
        "network.add(layers.Dense(32, activation='relu', input_shape=(28 * 28, )))\n",
        "network.add(layers.Dense(16, activation='tanh'))\n",
        "network.add(layers.Dense(10, activation='softmax'))"
      ],
      "execution_count": 10,
      "outputs": []
    },
    {
      "cell_type": "markdown",
      "metadata": {
        "id": "Af2c2tvKzp5f"
      },
      "source": [
        "- Our network consists of a sequence of two *Dense* layers, which are densely connected (also called *fully connected*) neural layers.\n",
        "- The second (and last) layer is a **10-way** *softmax* layer, which means it will return an array of **10** probability scores. Each score will be the probability that the current digit image belongs to one of our 10 digit classes. "
      ]
    },
    {
      "cell_type": "markdown",
      "metadata": {
        "id": "NHbqJ-rWzp5g"
      },
      "source": [
        "# The compilation step"
      ]
    },
    {
      "cell_type": "markdown",
      "metadata": {
        "id": "1w0ne5wYzp5h"
      },
      "source": [
        "- To make the network ready for training, we need to pick three more things, as part of the **compilation** step:\n",
        " - **A loss function**-- How the network will be able to measure its performance on the training data, and thus how it will be able to steer itself in the right direction.\n",
        " - **An optimizer**--The mechanism through which the network will update itself based on the data it sees and its loss function.\n",
        " - **Metrics to monitor during training and testing**--Here, we will only care about accuracy (the fraction of the images that were correctly classified)."
      ]
    },
    {
      "cell_type": "code",
      "metadata": {
        "id": "uvSO-q9Ozp5i"
      },
      "source": [
        "network.compile(optimizer='adam',\n",
        "                loss='categorical_crossentropy',\n",
        "                metrics=['accuracy'])\n",
        "    "
      ],
      "execution_count": 11,
      "outputs": []
    },
    {
      "cell_type": "markdown",
      "metadata": {
        "id": "fLHJqTLXzp5o"
      },
      "source": [
        "# Preparing the image data"
      ]
    },
    {
      "cell_type": "markdown",
      "metadata": {
        "id": "ajWKVl1-zp5q"
      },
      "source": [
        "Before training, we will preprocess the data by reshaping it into the shape the network expects and scaling it so that all values are in the $[0-1]$ interval."
      ]
    },
    {
      "cell_type": "code",
      "metadata": {
        "id": "4vMdz75Wzp5s"
      },
      "source": [
        "train_images = train_images.reshape((60000, 28 * 28))\n",
        "train_images = train_images.astype('float32') / 255."
      ],
      "execution_count": 12,
      "outputs": []
    },
    {
      "cell_type": "code",
      "metadata": {
        "id": "4icW7vDgzp5w"
      },
      "source": [
        "test_images = test_images.reshape((10000, 28 * 28))\n",
        "test_images = test_images.astype('float32') / 255."
      ],
      "execution_count": 13,
      "outputs": []
    },
    {
      "cell_type": "markdown",
      "metadata": {
        "id": "0SHD8Vvhzp5z"
      },
      "source": [
        "# Preparing the labels"
      ]
    },
    {
      "cell_type": "markdown",
      "metadata": {
        "id": "JA1YmuF1zp51"
      },
      "source": [
        "We also need to categorically encode the labels."
      ]
    },
    {
      "cell_type": "code",
      "metadata": {
        "id": "Bh42ABtgzp58"
      },
      "source": [
        "from tensorflow.keras.utils import to_categorical"
      ],
      "execution_count": 14,
      "outputs": []
    },
    {
      "cell_type": "code",
      "metadata": {
        "id": "3eCqlapJzp6A",
        "outputId": "893c7c0e-267c-4c30-ff94-3b5afd303c6b",
        "colab": {
          "base_uri": "https://localhost:8080/"
        }
      },
      "source": [
        "train_labels = to_categorical(train_labels)\n",
        "train_labels"
      ],
      "execution_count": 15,
      "outputs": [
        {
          "output_type": "execute_result",
          "data": {
            "text/plain": [
              "array([[0., 0., 0., ..., 0., 0., 0.],\n",
              "       [1., 0., 0., ..., 0., 0., 0.],\n",
              "       [0., 0., 0., ..., 0., 0., 0.],\n",
              "       ...,\n",
              "       [0., 0., 0., ..., 0., 0., 0.],\n",
              "       [0., 0., 0., ..., 0., 0., 0.],\n",
              "       [0., 0., 0., ..., 0., 1., 0.]], dtype=float32)"
            ]
          },
          "metadata": {},
          "execution_count": 15
        }
      ]
    },
    {
      "cell_type": "code",
      "metadata": {
        "id": "wWXDQKNBzp6E",
        "colab": {
          "base_uri": "https://localhost:8080/"
        },
        "outputId": "525a336b-61c1-4389-ca3c-b652241fc98a"
      },
      "source": [
        "test_labels = to_categorical(test_labels)\n",
        "test_labels"
      ],
      "execution_count": 16,
      "outputs": [
        {
          "output_type": "execute_result",
          "data": {
            "text/plain": [
              "array([[0., 0., 0., ..., 1., 0., 0.],\n",
              "       [0., 0., 1., ..., 0., 0., 0.],\n",
              "       [0., 1., 0., ..., 0., 0., 0.],\n",
              "       ...,\n",
              "       [0., 0., 0., ..., 0., 0., 0.],\n",
              "       [0., 0., 0., ..., 0., 0., 0.],\n",
              "       [0., 0., 0., ..., 0., 0., 0.]], dtype=float32)"
            ]
          },
          "metadata": {},
          "execution_count": 16
        }
      ]
    },
    {
      "cell_type": "markdown",
      "metadata": {
        "id": "csJ7yQVxzp6I"
      },
      "source": [
        "# Training and Testing"
      ]
    },
    {
      "cell_type": "markdown",
      "metadata": {
        "id": "P-KLV-VIzp6K"
      },
      "source": [
        "We are now ready to train the network, which in Keras is done via a call to the network's fit method--we fit the model to its training data:"
      ]
    },
    {
      "cell_type": "code",
      "metadata": {
        "id": "sGWa7zXYzp6O",
        "outputId": "85aed259-f066-491a-fdcb-1b3252777906",
        "colab": {
          "base_uri": "https://localhost:8080/"
        }
      },
      "source": [
        "network.fit(train_images, train_labels, epochs=20, batch_size=64)"
      ],
      "execution_count": 17,
      "outputs": [
        {
          "output_type": "stream",
          "name": "stdout",
          "text": [
            "Epoch 1/20\n",
            "938/938 [==============================] - 6s 4ms/step - loss: 0.4663 - accuracy: 0.8886\n",
            "Epoch 2/20\n",
            "938/938 [==============================] - 4s 4ms/step - loss: 0.1890 - accuracy: 0.9465\n",
            "Epoch 3/20\n",
            "938/938 [==============================] - 4s 4ms/step - loss: 0.1457 - accuracy: 0.9572\n",
            "Epoch 4/20\n",
            "938/938 [==============================] - 4s 4ms/step - loss: 0.1217 - accuracy: 0.9637\n",
            "Epoch 5/20\n",
            "938/938 [==============================] - 4s 4ms/step - loss: 0.1056 - accuracy: 0.9691\n",
            "Epoch 6/20\n",
            "938/938 [==============================] - 4s 4ms/step - loss: 0.0932 - accuracy: 0.9729\n",
            "Epoch 7/20\n",
            "938/938 [==============================] - 3s 4ms/step - loss: 0.0843 - accuracy: 0.9748\n",
            "Epoch 8/20\n",
            "938/938 [==============================] - 3s 4ms/step - loss: 0.0778 - accuracy: 0.9771\n",
            "Epoch 9/20\n",
            "938/938 [==============================] - 3s 4ms/step - loss: 0.0714 - accuracy: 0.9787\n",
            "Epoch 10/20\n",
            "938/938 [==============================] - 4s 4ms/step - loss: 0.0659 - accuracy: 0.9802\n",
            "Epoch 11/20\n",
            "938/938 [==============================] - 4s 4ms/step - loss: 0.0603 - accuracy: 0.9815\n",
            "Epoch 12/20\n",
            "938/938 [==============================] - 4s 4ms/step - loss: 0.0562 - accuracy: 0.9833\n",
            "Epoch 13/20\n",
            "938/938 [==============================] - 3s 4ms/step - loss: 0.0536 - accuracy: 0.9833\n",
            "Epoch 14/20\n",
            "938/938 [==============================] - 4s 4ms/step - loss: 0.0494 - accuracy: 0.9853\n",
            "Epoch 15/20\n",
            "938/938 [==============================] - 4s 4ms/step - loss: 0.0473 - accuracy: 0.9859\n",
            "Epoch 16/20\n",
            "938/938 [==============================] - 4s 4ms/step - loss: 0.0446 - accuracy: 0.9865\n",
            "Epoch 17/20\n",
            "938/938 [==============================] - 4s 4ms/step - loss: 0.0424 - accuracy: 0.9875\n",
            "Epoch 18/20\n",
            "938/938 [==============================] - 4s 4ms/step - loss: 0.0384 - accuracy: 0.9890\n",
            "Epoch 19/20\n",
            "938/938 [==============================] - 4s 4ms/step - loss: 0.0375 - accuracy: 0.9888\n",
            "Epoch 20/20\n",
            "938/938 [==============================] - 4s 4ms/step - loss: 0.0350 - accuracy: 0.9900\n"
          ]
        },
        {
          "output_type": "execute_result",
          "data": {
            "text/plain": [
              "<keras.callbacks.History at 0x7f7398985250>"
            ]
          },
          "metadata": {},
          "execution_count": 17
        }
      ]
    },
    {
      "cell_type": "markdown",
      "metadata": {
        "id": "heVasO26zp6V"
      },
      "source": [
        "- Two quantities are displayed during training:\n",
        "    - The loss of the network over the training data\n",
        "    - The accuracy of the network over the training data\n",
        "    \n",
        "- We quickly reach an accuracy of **$0.9886 (98.86\\%)$** on the training data."
      ]
    },
    {
      "cell_type": "markdown",
      "metadata": {
        "id": "0eDaNGAYzp6X"
      },
      "source": [
        "- Now let's check that the model performs well on the test set, too:"
      ]
    },
    {
      "cell_type": "code",
      "metadata": {
        "id": "2-UhmyTWzp6Y",
        "outputId": "2406e10b-44df-43af-cbf3-b9374940b4eb",
        "colab": {
          "base_uri": "https://localhost:8080/"
        }
      },
      "source": [
        "test_loss, test_acc = network.evaluate(test_images, test_labels)"
      ],
      "execution_count": 18,
      "outputs": [
        {
          "output_type": "stream",
          "name": "stdout",
          "text": [
            "313/313 [==============================] - 1s 3ms/step - loss: 0.1193 - accuracy: 0.9672\n"
          ]
        }
      ]
    },
    {
      "cell_type": "code",
      "metadata": {
        "id": "omz-cZXLzp6d",
        "outputId": "7d2ff268-498c-46f9-ca97-6243202ac92a",
        "colab": {
          "base_uri": "https://localhost:8080/"
        }
      },
      "source": [
        "print('Test Accuracy: {:.5f} '.format(test_acc))"
      ],
      "execution_count": 19,
      "outputs": [
        {
          "output_type": "stream",
          "name": "stdout",
          "text": [
            "Test Accuracy: 0.96720 \n"
          ]
        }
      ]
    },
    {
      "cell_type": "code",
      "metadata": {
        "id": "cbIp64KFzp6g",
        "outputId": "5d76bc2b-8759-427f-e12b-269fe8c2abe5",
        "colab": {
          "base_uri": "https://localhost:8080/"
        }
      },
      "source": [
        "test_acc"
      ],
      "execution_count": 20,
      "outputs": [
        {
          "output_type": "execute_result",
          "data": {
            "text/plain": [
              "0.967199981212616"
            ]
          },
          "metadata": {},
          "execution_count": 20
        }
      ]
    },
    {
      "cell_type": "markdown",
      "metadata": {
        "id": "yi5jDr-0zp6k"
      },
      "source": [
        "- The test-set accuracy turns out to be $97.780\\%$--that is quite a bit lower than the training set accuracy. This gap between training and test accuracy is an example of **overfitting**:the fact that the ML models tend to perform worse on new data than on their training data."
      ]
    },
    {
      "cell_type": "code",
      "metadata": {
        "id": "JOu1IQW6zp6l",
        "outputId": "b595fe9f-c138-4915-f047-345ecf9826e8",
        "colab": {
          "base_uri": "https://localhost:8080/",
          "height": 369
        }
      },
      "source": [
        "from tensorflow.keras.utils import plot_model\n",
        "plot_model(network, to_file='model.png')"
      ],
      "execution_count": 21,
      "outputs": [
        {
          "output_type": "execute_result",
          "data": {
            "text/plain": [
              "<IPython.core.display.Image object>"
            ],
            "image/png": "[encoded data removed]"
          },
          "metadata": {},
          "execution_count": 21
        }
      ]
    },
    {
      "cell_type": "code",
      "metadata": {
        "id": "LVvUxpAkOQuz",
        "outputId": "9c13bd5d-7a4e-484e-fa23-dc13b688fa31",
        "colab": {
          "base_uri": "https://localhost:8080/",
          "height": 1000
        }
      },
      "source": [
        "import matplotlib.pyplot as plt\n",
        "history =network.fit(train_images, train_labels, validation_split=0.33,epochs=20, batch_size=64)\n",
        "history_dict = history.history\n",
        "print(history_dict.keys())\n",
        "plt.plot(history.history['accuracy'])\n",
        "plt.plot(history.history['val_accuracy'])\n",
        "plt.title('Model accuracy')\n",
        "plt.ylabel('Accuracy')\n",
        "plt.xlabel('Epoch')\n",
        "plt.legend(['Train', 'Test'], loc='upper left')\n",
        "plt.show()\n",
        "\n",
        "# Plot training & validation loss values\n",
        "plt.plot(history.history['loss'])\n",
        "plt.plot(history.history['val_loss'])\n",
        "plt.title('Model loss')\n",
        "plt.ylabel('Loss')\n",
        "plt.xlabel('Epoch')\n",
        "plt.legend(['Train', 'Test'], loc='upper left')\n",
        "plt.show()"
      ],
      "execution_count": 22,
      "outputs": [
        {
          "output_type": "stream",
          "name": "stdout",
          "text": [
            "Epoch 1/20\n",
            "629/629 [==============================] - 3s 5ms/step - loss: 0.0303 - accuracy: 0.9914 - val_loss: 0.0358 - val_accuracy: 0.9898\n",
            "Epoch 2/20\n",
            "629/629 [==============================] - 3s 5ms/step - loss: 0.0268 - accuracy: 0.9927 - val_loss: 0.0447 - val_accuracy: 0.9862\n",
            "Epoch 3/20\n",
            "629/629 [==============================] - 4s 6ms/step - loss: 0.0248 - accuracy: 0.9935 - val_loss: 0.0458 - val_accuracy: 0.9856\n",
            "Epoch 4/20\n",
            "629/629 [==============================] - 6s 10ms/step - loss: 0.0238 - accuracy: 0.9929 - val_loss: 0.0493 - val_accuracy: 0.9841\n",
            "Epoch 5/20\n",
            "629/629 [==============================] - 4s 7ms/step - loss: 0.0213 - accuracy: 0.9942 - val_loss: 0.0507 - val_accuracy: 0.9836\n",
            "Epoch 6/20\n",
            "629/629 [==============================] - 3s 5ms/step - loss: 0.0216 - accuracy: 0.9935 - val_loss: 0.0568 - val_accuracy: 0.9824\n",
            "Epoch 7/20\n",
            "629/629 [==============================] - 4s 6ms/step - loss: 0.0191 - accuracy: 0.9947 - val_loss: 0.0601 - val_accuracy: 0.9803\n",
            "Epoch 8/20\n",
            "629/629 [==============================] - 4s 6ms/step - loss: 0.0176 - accuracy: 0.9953 - val_loss: 0.0615 - val_accuracy: 0.9810\n",
            "Epoch 9/20\n",
            "629/629 [==============================] - 3s 5ms/step - loss: 0.0166 - accuracy: 0.9956 - val_loss: 0.0667 - val_accuracy: 0.9792\n",
            "Epoch 10/20\n",
            "629/629 [==============================] - 4s 6ms/step - loss: 0.0163 - accuracy: 0.9958 - val_loss: 0.0673 - val_accuracy: 0.9783\n",
            "Epoch 11/20\n",
            "629/629 [==============================] - 4s 6ms/step - loss: 0.0154 - accuracy: 0.9961 - val_loss: 0.0707 - val_accuracy: 0.9794\n",
            "Epoch 12/20\n",
            "629/629 [==============================] - 3s 5ms/step - loss: 0.0149 - accuracy: 0.9964 - val_loss: 0.0715 - val_accuracy: 0.9787\n",
            "Epoch 13/20\n",
            "629/629 [==============================] - 3s 5ms/step - loss: 0.0136 - accuracy: 0.9965 - val_loss: 0.0829 - val_accuracy: 0.9767\n",
            "Epoch 14/20\n",
            "629/629 [==============================] - 3s 5ms/step - loss: 0.0133 - accuracy: 0.9966 - val_loss: 0.0970 - val_accuracy: 0.9728\n",
            "Epoch 15/20\n",
            "629/629 [==============================] - 3s 5ms/step - loss: 0.0131 - accuracy: 0.9963 - val_loss: 0.0812 - val_accuracy: 0.9767\n",
            "Epoch 16/20\n",
            "629/629 [==============================] - 3s 5ms/step - loss: 0.0105 - accuracy: 0.9976 - val_loss: 0.0837 - val_accuracy: 0.9755\n",
            "Epoch 17/20\n",
            "629/629 [==============================] - 4s 6ms/step - loss: 0.0108 - accuracy: 0.9973 - val_loss: 0.1039 - val_accuracy: 0.9712\n",
            "Epoch 18/20\n",
            "629/629 [==============================] - 4s 6ms/step - loss: 0.0108 - accuracy: 0.9973 - val_loss: 0.0954 - val_accuracy: 0.9734\n",
            "Epoch 19/20\n",
            "629/629 [==============================] - 4s 7ms/step - loss: 0.0114 - accuracy: 0.9972 - val_loss: 0.1046 - val_accuracy: 0.9717\n",
            "Epoch 20/20\n",
            "629/629 [==============================] - 4s 6ms/step - loss: 0.0093 - accuracy: 0.9976 - val_loss: 0.0868 - val_accuracy: 0.9761\n",
            "dict_keys(['loss', 'accuracy', 'val_loss', 'val_accuracy'])\n"
          ]
        },
        {
          "output_type": "display_data",
          "data": {
            "text/plain": [
              "<Figure size 432x288 with 1 Axes>"
            ],
            "image/png": "[encoded data removed]"
          },
          "metadata": {
            "needs_background": "light"
          }
        },
        {
          "output_type": "display_data",
          "data": {
            "text/plain": [
              "<Figure size 432x288 with 1 Axes>"
            ],
            "image/png": "[encoded data removed]"
          },
          "metadata": {
            "needs_background": "light"
          }
        }
      ]
    }
  ]
}