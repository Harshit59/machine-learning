{
  "nbformat": 4,
  "nbformat_minor": 0,
  "metadata": {
    "colab": {
      "name": "CT-16 III  Neural_Network_Classification.ipynb",
      "provenance": [],
      "collapsed_sections": [],
      "include_colab_link": true
    },
    "kernelspec": {
      "name": "python3",
      "display_name": "Python 3"
    },
    "language_info": {
      "name": "python"
    }
  },
  "cells": [
    {
      "cell_type": "markdown",
      "metadata": {
        "id": "view-in-github",
        "colab_type": "text"
      },
      "source": [
        "<a href=\"https://colab.research.google.com/github/Harshit59/machine-learning/blob/main/CT_16_III_Neural_Network_Classification.ipynb\" target=\"_parent\"><img src=\"https://colab.research.google.com/assets/colab-badge.svg\" alt=\"Open In Colab\"/></a>"
      ]
    },
    {
      "cell_type": "markdown",
      "metadata": {
        "id": "nhPEM4IUoDKA"
      },
      "source": [
        "CO CST IMPLEMENTATION OF NEURAL NETWORK\n",
        "\n"
      ]
    },
    {
      "cell_type": "code",
      "source": [
        ""
      ],
      "metadata": {
        "id": "bDN6Un_6rAR9"
      },
      "execution_count": null,
      "outputs": []
    },
    {
      "cell_type": "markdown",
      "metadata": {
        "id": "ZpJe0cAaoG98"
      },
      "source": [
        "# Tutorial 3: Neural Network Classification"
      ]
    },
    {
      "cell_type": "markdown",
      "metadata": {
        "id": "dIT7QrK2PwdM"
      },
      "source": [
        "Dataset: [Pima Indian Diabetes Dataset](https://data.world/data-society/pima-indians-diabetes-database#)\n",
        "\n",
        "This dataset is originally from the National Institute of Diabetes and Digestive and Kidney Diseases. The objective is to predict based on diagnostic measurements whether a patient has diabetes.\n",
        "\n",
        "Several constraints were placed on the selection of these instances from a larger database. In particular, all patients here are females at least 21 years old of Pima Indian heritage.\n",
        "\n",
        "Attributes of PIMA dataset:\n",
        "\n",
        "**Pregnancies**: Number of times pregnant\n",
        "\n",
        "**Glucose**: Plasma glucose concentration a 2 hours in an oral glucose tolerance test\n",
        "\n",
        "**BloodPressure**: Diastolic blood pressure (mm Hg)\n",
        "\n",
        "**SkinThickness**: Triceps skin fold thickness (mm)\n",
        "\n",
        "**Insulin**: 2-Hour serum insulin (mu U/ml)\n",
        "\n",
        "**BMI**: Body mass index (weight in kg/(height in m)^2)\n",
        "\n",
        "**DiabetesPedigreeFunction**: Diabetes pedigree function\n",
        "\n",
        "**Age**: Age (years)\n",
        "\n",
        "**Outcome**: Class variable (0 or 1)"
      ]
    },
    {
      "cell_type": "markdown",
      "metadata": {
        "id": "FIAgs3sTY712"
      },
      "source": [
        "**1. Mount the Google Drive**"
      ]
    },
    {
      "cell_type": "code",
      "metadata": {
        "id": "CrZg_G5MQ4L5",
        "colab": {
          "base_uri": "https://localhost:8080/"
        },
        "outputId": "442e2a31-5c96-4268-ae40-e1cb1027ac4f"
      },
      "source": [
        "from google.colab import drive\n",
        "drive.mount('/content/drive')"
      ],
      "execution_count": null,
      "outputs": [
        {
          "output_type": "stream",
          "name": "stdout",
          "text": [
            "Mounted at /content/drive\n"
          ]
        }
      ]
    },
    {
      "cell_type": "markdown",
      "metadata": {
        "id": "CqAhYoWHZAwg"
      },
      "source": [
        "**2. Move to the place where data resides**"
      ]
    },
    {
      "cell_type": "code",
      "metadata": {
        "colab": {
          "base_uri": "https://localhost:8080/"
        },
        "id": "TjgG_3CiP4eQ",
        "outputId": "f0438fac-a8b7-4602-8547-d7d9da7e128f"
      },
      "source": [
        "%cd /content/drive/MyDrive/diabetes.csv"
      ],
      "execution_count": 5,
      "outputs": [
        {
          "output_type": "stream",
          "name": "stdout",
          "text": [
            "[Errno 20] Not a directory: '/content/drive/MyDrive/diabetes.csv'\n",
            "/content/drive/MyDrive\n"
          ]
        }
      ]
    },
    {
      "cell_type": "code",
      "source": [
        "!ls"
      ],
      "metadata": {
        "id": "S-KhHH_xATY8",
        "colab": {
          "base_uri": "https://localhost:8080/"
        },
        "outputId": "2f534c5e-f8d0-454b-ab9c-7c33305dc187"
      },
      "execution_count": 6,
      "outputs": [
        {
          "output_type": "stream",
          "name": "stdout",
          "text": [
            " Classroom\n",
            "'Colab Notebooks'\n",
            "'CT-16 Tutorial 1 dbms.pdf'\n",
            " Cybersecurity_Foundation_Student_Certificate.pdf\n",
            "'dataset1 (1).csv'\n",
            " diabetes.csv\n",
            "'Getting started.pdf'\n",
            "'hacker rank.PNG'\n",
            "'Harshit verma (CT 16) cso assi.pdf'\n",
            " IMG_20210820_223022.jpg\n",
            " IMG_20220309_231118.jpg\n",
            "'Link of alexa skill set.docx'\n",
            "'Palo alto'\n",
            " Screenshot_20210602_163236.jpg\n",
            "'ss of alexa skill set (1).jpeg'\n",
            "'ss of alexa skill set.jpeg'\n",
            "'TOC Lab Assignment 4.docx'\n",
            "'Untitled form.gform'\n",
            "'Voice flow alexa skill set (1).docx'\n",
            "'Voice flow alexa skill set.docx'\n"
          ]
        }
      ]
    },
    {
      "cell_type": "code",
      "source": [
        ""
      ],
      "metadata": {
        "id": "f65jHMx2I_1O"
      },
      "execution_count": 6,
      "outputs": []
    },
    {
      "cell_type": "markdown",
      "metadata": {
        "id": "VKvfswsOZLUB"
      },
      "source": [
        "**3. Read the dataset from CSV file**"
      ]
    },
    {
      "cell_type": "code",
      "metadata": {
        "colab": {
          "base_uri": "https://localhost:8080/",
          "height": 363
        },
        "id": "32nNonRSSaQq",
        "outputId": "c7cc7b45-6eb0-471e-bdf8-5dfaf4043503"
      },
      "source": [
        "import pandas as pd\n",
        "data = pd.read_csv('diabetes.csv')\n",
        "data.head(10)"
      ],
      "execution_count": 7,
      "outputs": [
        {
          "output_type": "execute_result",
          "data": {
            "text/plain": [
              "   Pregnancies  Glucose  BloodPressure  SkinThickness  Insulin   BMI  \\\n",
              "0            6      148             72             35        0  33.6   \n",
              "1            1       85             66             29        0  26.6   \n",
              "2            8      183             64              0        0  23.3   \n",
              "3            1       89             66             23       94  28.1   \n",
              "4            0      137             40             35      168  43.1   \n",
              "5            5      116             74              0        0  25.6   \n",
              "6            3       78             50             32       88  31.0   \n",
              "7           10      115              0              0        0  35.3   \n",
              "8            2      197             70             45      543  30.5   \n",
              "9            8      125             96              0        0   0.0   \n",
              "\n",
              "   DiabetesPedigreeFunction  Age  Outcome  \n",
              "0                     0.627   50        1  \n",
              "1                     0.351   31        0  \n",
              "2                     0.672   32        1  \n",
              "3                     0.167   21        0  \n",
              "4                     2.288   33        1  \n",
              "5                     0.201   30        0  \n",
              "6                     0.248   26        1  \n",
              "7                     0.134   29        0  \n",
              "8                     0.158   53        1  \n",
              "9                     0.232   54        1  "
            ],
            "text/html": [
              "\n",
              "  <div id=\"df-a9eca6e8-e6f3-41ef-ad23-bbc84ad8f2d1\">\n",
              "    <div class=\"colab-df-container\">\n",
              "      <div>\n",
              "<style scoped>\n",
              "    .dataframe tbody tr th:only-of-type {\n",
              "        vertical-align: middle;\n",
              "    }\n",
              "\n",
              "    .dataframe tbody tr th {\n",
              "        vertical-align: top;\n",
              "    }\n",
              "\n",
              "    .dataframe thead th {\n",
              "        text-align: right;\n",
              "    }\n",
              "</style>\n",
              "<table border=\"1\" class=\"dataframe\">\n",
              "  <thead>\n",
              "    <tr style=\"text-align: right;\">\n",
              "      <th></th>\n",
              "      <th>Pregnancies</th>\n",
              "      <th>Glucose</th>\n",
              "      <th>BloodPressure</th>\n",
              "      <th>SkinThickness</th>\n",
              "      <th>Insulin</th>\n",
              "      <th>BMI</th>\n",
              "      <th>DiabetesPedigreeFunction</th>\n",
              "      <th>Age</th>\n",
              "      <th>Outcome</th>\n",
              "    </tr>\n",
              "  </thead>\n",
              "  <tbody>\n",
              "    <tr>\n",
              "      <th>0</th>\n",
              "      <td>6</td>\n",
              "      <td>148</td>\n",
              "      <td>72</td>\n",
              "      <td>35</td>\n",
              "      <td>0</td>\n",
              "      <td>33.6</td>\n",
              "      <td>0.627</td>\n",
              "      <td>50</td>\n",
              "      <td>1</td>\n",
              "    </tr>\n",
              "    <tr>\n",
              "      <th>1</th>\n",
              "      <td>1</td>\n",
              "      <td>85</td>\n",
              "      <td>66</td>\n",
              "      <td>29</td>\n",
              "      <td>0</td>\n",
              "      <td>26.6</td>\n",
              "      <td>0.351</td>\n",
              "      <td>31</td>\n",
              "      <td>0</td>\n",
              "    </tr>\n",
              "    <tr>\n",
              "      <th>2</th>\n",
              "      <td>8</td>\n",
              "      <td>183</td>\n",
              "      <td>64</td>\n",
              "      <td>0</td>\n",
              "      <td>0</td>\n",
              "      <td>23.3</td>\n",
              "      <td>0.672</td>\n",
              "      <td>32</td>\n",
              "      <td>1</td>\n",
              "    </tr>\n",
              "    <tr>\n",
              "      <th>3</th>\n",
              "      <td>1</td>\n",
              "      <td>89</td>\n",
              "      <td>66</td>\n",
              "      <td>23</td>\n",
              "      <td>94</td>\n",
              "      <td>28.1</td>\n",
              "      <td>0.167</td>\n",
              "      <td>21</td>\n",
              "      <td>0</td>\n",
              "    </tr>\n",
              "    <tr>\n",
              "      <th>4</th>\n",
              "      <td>0</td>\n",
              "      <td>137</td>\n",
              "      <td>40</td>\n",
              "      <td>35</td>\n",
              "      <td>168</td>\n",
              "      <td>43.1</td>\n",
              "      <td>2.288</td>\n",
              "      <td>33</td>\n",
              "      <td>1</td>\n",
              "    </tr>\n",
              "    <tr>\n",
              "      <th>5</th>\n",
              "      <td>5</td>\n",
              "      <td>116</td>\n",
              "      <td>74</td>\n",
              "      <td>0</td>\n",
              "      <td>0</td>\n",
              "      <td>25.6</td>\n",
              "      <td>0.201</td>\n",
              "      <td>30</td>\n",
              "      <td>0</td>\n",
              "    </tr>\n",
              "    <tr>\n",
              "      <th>6</th>\n",
              "      <td>3</td>\n",
              "      <td>78</td>\n",
              "      <td>50</td>\n",
              "      <td>32</td>\n",
              "      <td>88</td>\n",
              "      <td>31.0</td>\n",
              "      <td>0.248</td>\n",
              "      <td>26</td>\n",
              "      <td>1</td>\n",
              "    </tr>\n",
              "    <tr>\n",
              "      <th>7</th>\n",
              "      <td>10</td>\n",
              "      <td>115</td>\n",
              "      <td>0</td>\n",
              "      <td>0</td>\n",
              "      <td>0</td>\n",
              "      <td>35.3</td>\n",
              "      <td>0.134</td>\n",
              "      <td>29</td>\n",
              "      <td>0</td>\n",
              "    </tr>\n",
              "    <tr>\n",
              "      <th>8</th>\n",
              "      <td>2</td>\n",
              "      <td>197</td>\n",
              "      <td>70</td>\n",
              "      <td>45</td>\n",
              "      <td>543</td>\n",
              "      <td>30.5</td>\n",
              "      <td>0.158</td>\n",
              "      <td>53</td>\n",
              "      <td>1</td>\n",
              "    </tr>\n",
              "    <tr>\n",
              "      <th>9</th>\n",
              "      <td>8</td>\n",
              "      <td>125</td>\n",
              "      <td>96</td>\n",
              "      <td>0</td>\n",
              "      <td>0</td>\n",
              "      <td>0.0</td>\n",
              "      <td>0.232</td>\n",
              "      <td>54</td>\n",
              "      <td>1</td>\n",
              "    </tr>\n",
              "  </tbody>\n",
              "</table>\n",
              "</div>\n",
              "      <button class=\"colab-df-convert\" onclick=\"convertToInteractive('df-a9eca6e8-e6f3-41ef-ad23-bbc84ad8f2d1')\"\n",
              "              title=\"Convert this dataframe to an interactive table.\"\n",
              "              style=\"display:none;\">\n",
              "        \n",
              "  <svg xmlns=\"http://www.w3.org/2000/svg\" height=\"24px\"viewBox=\"0 0 24 24\"\n",
              "       width=\"24px\">\n",
              "    <path d=\"M0 0h24v24H0V0z\" fill=\"none\"/>\n",
              "    <path d=\"M18.56 5.44l.94 2.06.94-2.06 2.06-.94-2.06-.94-.94-2.06-.94 2.06-2.06.94zm-11 1L8.5 8.5l.94-2.06 2.06-.94-2.06-.94L8.5 2.5l-.94 2.06-2.06.94zm10 10l.94 2.06.94-2.06 2.06-.94-2.06-.94-.94-2.06-.94 2.06-2.06.94z\"/><path d=\"M17.41 7.96l-1.37-1.37c-.4-.4-.92-.59-1.43-.59-.52 0-1.04.2-1.43.59L10.3 9.45l-7.72 7.72c-.78.78-.78 2.05 0 2.83L4 21.41c.39.39.9.59 1.41.59.51 0 1.02-.2 1.41-.59l7.78-7.78 2.81-2.81c.8-.78.8-2.07 0-2.86zM5.41 20L4 18.59l7.72-7.72 1.47 1.35L5.41 20z\"/>\n",
              "  </svg>\n",
              "      </button>\n",
              "      \n",
              "  <style>\n",
              "    .colab-df-container {\n",
              "      display:flex;\n",
              "      flex-wrap:wrap;\n",
              "      gap: 12px;\n",
              "    }\n",
              "\n",
              "    .colab-df-convert {\n",
              "      background-color: #E8F0FE;\n",
              "      border: none;\n",
              "      border-radius: 50%;\n",
              "      cursor: pointer;\n",
              "      display: none;\n",
              "      fill: #1967D2;\n",
              "      height: 32px;\n",
              "      padding: 0 0 0 0;\n",
              "      width: 32px;\n",
              "    }\n",
              "\n",
              "    .colab-df-convert:hover {\n",
              "      background-color: #E2EBFA;\n",
              "      box-shadow: 0px 1px 2px rgba(60, 64, 67, 0.3), 0px 1px 3px 1px rgba(60, 64, 67, 0.15);\n",
              "      fill: #174EA6;\n",
              "    }\n",
              "\n",
              "    [theme=dark] .colab-df-convert {\n",
              "      background-color: #3B4455;\n",
              "      fill: #D2E3FC;\n",
              "    }\n",
              "\n",
              "    [theme=dark] .colab-df-convert:hover {\n",
              "      background-color: #434B5C;\n",
              "      box-shadow: 0px 1px 3px 1px rgba(0, 0, 0, 0.15);\n",
              "      filter: drop-shadow(0px 1px 2px rgba(0, 0, 0, 0.3));\n",
              "      fill: #FFFFFF;\n",
              "    }\n",
              "  </style>\n",
              "\n",
              "      <script>\n",
              "        const buttonEl =\n",
              "          document.querySelector('#df-a9eca6e8-e6f3-41ef-ad23-bbc84ad8f2d1 button.colab-df-convert');\n",
              "        buttonEl.style.display =\n",
              "          google.colab.kernel.accessAllowed ? 'block' : 'none';\n",
              "\n",
              "        async function convertToInteractive(key) {\n",
              "          const element = document.querySelector('#df-a9eca6e8-e6f3-41ef-ad23-bbc84ad8f2d1');\n",
              "          const dataTable =\n",
              "            await google.colab.kernel.invokeFunction('convertToInteractive',\n",
              "                                                     [key], {});\n",
              "          if (!dataTable) return;\n",
              "\n",
              "          const docLinkHtml = 'Like what you see? Visit the ' +\n",
              "            '<a target=\"_blank\" href=https://colab.research.google.com/notebooks/data_table.ipynb>data table notebook</a>'\n",
              "            + ' to learn more about interactive tables.';\n",
              "          element.innerHTML = '';\n",
              "          dataTable['output_type'] = 'display_data';\n",
              "          await google.colab.output.renderOutput(dataTable, element);\n",
              "          const docLink = document.createElement('div');\n",
              "          docLink.innerHTML = docLinkHtml;\n",
              "          element.appendChild(docLink);\n",
              "        }\n",
              "      </script>\n",
              "    </div>\n",
              "  </div>\n",
              "  "
            ]
          },
          "metadata": {},
          "execution_count": 7
        }
      ]
    },
    {
      "cell_type": "code",
      "metadata": {
        "colab": {
          "base_uri": "https://localhost:8080/"
        },
        "id": "ZrslDLESShr7",
        "outputId": "33c208ce-e462-4ad6-ee92-d6181ee51365"
      },
      "source": [
        "data.columns"
      ],
      "execution_count": 8,
      "outputs": [
        {
          "output_type": "execute_result",
          "data": {
            "text/plain": [
              "Index(['Pregnancies', 'Glucose', 'BloodPressure', 'SkinThickness', 'Insulin',\n",
              "       'BMI', 'DiabetesPedigreeFunction', 'Age', 'Outcome'],\n",
              "      dtype='object')"
            ]
          },
          "metadata": {},
          "execution_count": 8
        }
      ]
    },
    {
      "cell_type": "code",
      "metadata": {
        "colab": {
          "base_uri": "https://localhost:8080/"
        },
        "id": "BLElehZ-Skgq",
        "outputId": "601be744-dd81-47c2-af0d-99432db3632c"
      },
      "source": [
        "data.values"
      ],
      "execution_count": 9,
      "outputs": [
        {
          "output_type": "execute_result",
          "data": {
            "text/plain": [
              "array([[  6.   , 148.   ,  72.   , ...,   0.627,  50.   ,   1.   ],\n",
              "       [  1.   ,  85.   ,  66.   , ...,   0.351,  31.   ,   0.   ],\n",
              "       [  8.   , 183.   ,  64.   , ...,   0.672,  32.   ,   1.   ],\n",
              "       ...,\n",
              "       [  5.   , 121.   ,  72.   , ...,   0.245,  30.   ,   0.   ],\n",
              "       [  1.   , 126.   ,  60.   , ...,   0.349,  47.   ,   1.   ],\n",
              "       [  1.   ,  93.   ,  70.   , ...,   0.315,  23.   ,   0.   ]])"
            ]
          },
          "metadata": {},
          "execution_count": 9
        }
      ]
    },
    {
      "cell_type": "markdown",
      "metadata": {
        "id": "2HnZxGc4ZQlf"
      },
      "source": [
        "**4. Store the data into input feature and label variables**"
      ]
    },
    {
      "cell_type": "code",
      "metadata": {
        "colab": {
          "base_uri": "https://localhost:8080/"
        },
        "id": "IPfA5BF0Sm4R",
        "outputId": "984db46c-5b64-444e-9bdd-ff9fec77c2a1"
      },
      "source": [
        "dataset= data.values\n",
        "X = dataset[:,0:8]\n",
        "Y = dataset[:,8]\n",
        "print(X)\n",
        "print(Y)"
      ],
      "execution_count": 10,
      "outputs": [
        {
          "output_type": "stream",
          "name": "stdout",
          "text": [
            "[[  6.    148.     72.    ...  33.6     0.627  50.   ]\n",
            " [  1.     85.     66.    ...  26.6     0.351  31.   ]\n",
            " [  8.    183.     64.    ...  23.3     0.672  32.   ]\n",
            " ...\n",
            " [  5.    121.     72.    ...  26.2     0.245  30.   ]\n",
            " [  1.    126.     60.    ...  30.1     0.349  47.   ]\n",
            " [  1.     93.     70.    ...  30.4     0.315  23.   ]]\n",
            "[1. 0. 1. 0. 1. 0. 1. 0. 1. 1. 0. 1. 0. 1. 1. 1. 1. 1. 0. 1. 0. 0. 1. 1.\n",
            " 1. 1. 1. 0. 0. 0. 0. 1. 0. 0. 0. 0. 0. 1. 1. 1. 0. 0. 0. 1. 0. 1. 0. 0.\n",
            " 1. 0. 0. 0. 0. 1. 0. 0. 1. 0. 0. 0. 0. 1. 0. 0. 1. 0. 1. 0. 0. 0. 1. 0.\n",
            " 1. 0. 0. 0. 0. 0. 1. 0. 0. 0. 0. 0. 1. 0. 0. 0. 1. 0. 0. 0. 0. 1. 0. 0.\n",
            " 0. 0. 0. 1. 1. 0. 0. 0. 0. 0. 0. 0. 0. 1. 1. 1. 0. 0. 1. 1. 1. 0. 0. 0.\n",
            " 1. 0. 0. 0. 1. 1. 0. 0. 1. 1. 1. 1. 1. 0. 0. 0. 0. 0. 0. 0. 0. 0. 0. 1.\n",
            " 0. 0. 0. 0. 0. 0. 0. 0. 1. 0. 1. 1. 0. 0. 0. 1. 0. 0. 0. 0. 1. 1. 0. 0.\n",
            " 0. 0. 1. 1. 0. 0. 0. 1. 0. 1. 0. 1. 0. 0. 0. 0. 0. 1. 1. 1. 1. 1. 0. 0.\n",
            " 1. 1. 0. 1. 0. 1. 1. 1. 0. 0. 0. 0. 0. 0. 1. 1. 0. 1. 0. 0. 0. 1. 1. 1.\n",
            " 1. 0. 1. 1. 1. 1. 0. 0. 0. 0. 0. 1. 0. 0. 1. 1. 0. 0. 0. 1. 1. 1. 1. 0.\n",
            " 0. 0. 1. 1. 0. 1. 0. 0. 0. 0. 0. 0. 0. 0. 1. 1. 0. 0. 0. 1. 0. 1. 0. 0.\n",
            " 1. 0. 1. 0. 0. 1. 1. 0. 0. 0. 0. 0. 1. 0. 0. 0. 1. 0. 0. 1. 1. 0. 0. 1.\n",
            " 0. 0. 0. 1. 1. 1. 0. 0. 1. 0. 1. 0. 1. 1. 0. 1. 0. 0. 1. 0. 1. 1. 0. 0.\n",
            " 1. 0. 1. 0. 0. 1. 0. 1. 0. 1. 1. 1. 0. 0. 1. 0. 1. 0. 0. 0. 1. 0. 0. 0.\n",
            " 0. 1. 1. 1. 0. 0. 0. 0. 0. 0. 0. 0. 0. 1. 0. 0. 0. 0. 0. 1. 1. 1. 0. 1.\n",
            " 1. 0. 0. 1. 0. 0. 1. 0. 0. 1. 1. 0. 0. 0. 0. 1. 0. 0. 1. 0. 0. 0. 0. 0.\n",
            " 0. 0. 1. 1. 1. 0. 0. 1. 0. 0. 1. 0. 0. 1. 0. 1. 1. 0. 1. 0. 1. 0. 1. 0.\n",
            " 1. 1. 0. 0. 0. 0. 1. 1. 0. 1. 0. 1. 0. 0. 0. 0. 1. 1. 0. 1. 0. 1. 0. 0.\n",
            " 0. 0. 0. 1. 0. 0. 0. 0. 1. 0. 0. 1. 1. 1. 0. 0. 1. 0. 0. 1. 0. 0. 0. 1.\n",
            " 0. 0. 1. 0. 0. 0. 0. 0. 0. 0. 0. 0. 1. 0. 0. 0. 0. 0. 0. 0. 1. 0. 0. 0.\n",
            " 1. 0. 0. 0. 1. 1. 0. 0. 0. 0. 0. 0. 0. 1. 0. 0. 0. 0. 1. 0. 0. 0. 1. 0.\n",
            " 0. 0. 1. 0. 0. 0. 1. 0. 0. 0. 0. 1. 1. 0. 0. 0. 0. 0. 0. 1. 0. 0. 0. 0.\n",
            " 0. 0. 0. 0. 0. 0. 0. 1. 0. 0. 0. 1. 1. 1. 1. 0. 0. 1. 1. 0. 0. 0. 0. 0.\n",
            " 0. 0. 0. 0. 0. 0. 0. 0. 1. 1. 0. 0. 0. 0. 0. 0. 0. 1. 0. 0. 0. 0. 0. 0.\n",
            " 0. 1. 0. 1. 1. 0. 0. 0. 1. 0. 1. 0. 1. 0. 1. 0. 1. 0. 0. 1. 0. 0. 1. 0.\n",
            " 0. 0. 0. 1. 1. 0. 1. 0. 0. 0. 0. 1. 1. 0. 1. 0. 0. 0. 1. 1. 0. 0. 0. 0.\n",
            " 0. 0. 0. 0. 0. 0. 1. 0. 0. 0. 0. 1. 0. 0. 1. 0. 0. 0. 1. 0. 0. 0. 1. 1.\n",
            " 1. 0. 0. 0. 0. 0. 0. 1. 0. 0. 0. 1. 0. 1. 1. 1. 1. 0. 1. 1. 0. 0. 0. 0.\n",
            " 0. 0. 0. 1. 1. 0. 1. 0. 0. 1. 0. 1. 0. 0. 0. 0. 0. 1. 0. 1. 0. 1. 0. 1.\n",
            " 1. 0. 0. 0. 0. 1. 1. 0. 0. 0. 1. 0. 1. 1. 0. 0. 1. 0. 0. 1. 1. 0. 0. 1.\n",
            " 0. 0. 1. 0. 0. 0. 0. 0. 0. 0. 1. 1. 1. 0. 0. 0. 0. 0. 0. 1. 1. 0. 0. 1.\n",
            " 0. 0. 1. 0. 1. 1. 1. 0. 0. 1. 1. 1. 0. 1. 0. 1. 0. 1. 0. 0. 0. 0. 1. 0.]\n"
          ]
        }
      ]
    },
    {
      "cell_type": "markdown",
      "metadata": {
        "id": "OdPZerNUZV4Q"
      },
      "source": [
        "**5. Data Normalization**"
      ]
    },
    {
      "cell_type": "code",
      "metadata": {
        "colab": {
          "base_uri": "https://localhost:8080/"
        },
        "id": "pM4g3T1fWri-",
        "outputId": "649b757e-47f3-4f02-b820-f3ca97e8bf61"
      },
      "source": [
        "from sklearn import preprocessing\n",
        "min_max_scaler = preprocessing.MinMaxScaler()\n",
        "X_scale = min_max_scaler.fit_transform(X)\n",
        "X_scale"
      ],
      "execution_count": 11,
      "outputs": [
        {
          "output_type": "execute_result",
          "data": {
            "text/plain": [
              "array([[0.35294118, 0.74371859, 0.59016393, ..., 0.50074516, 0.23441503,\n",
              "        0.48333333],\n",
              "       [0.05882353, 0.42713568, 0.54098361, ..., 0.39642325, 0.11656704,\n",
              "        0.16666667],\n",
              "       [0.47058824, 0.91959799, 0.52459016, ..., 0.34724292, 0.25362938,\n",
              "        0.18333333],\n",
              "       ...,\n",
              "       [0.29411765, 0.6080402 , 0.59016393, ..., 0.390462  , 0.07130658,\n",
              "        0.15      ],\n",
              "       [0.05882353, 0.63316583, 0.49180328, ..., 0.4485842 , 0.11571307,\n",
              "        0.43333333],\n",
              "       [0.05882353, 0.46733668, 0.57377049, ..., 0.45305514, 0.10119556,\n",
              "        0.03333333]])"
            ]
          },
          "metadata": {},
          "execution_count": 11
        }
      ]
    },
    {
      "cell_type": "markdown",
      "metadata": {
        "id": "n1B5x8C0ZY-e"
      },
      "source": [
        "**6. One-hot vector conversion**"
      ]
    },
    {
      "cell_type": "code",
      "metadata": {
        "colab": {
          "base_uri": "https://localhost:8080/"
        },
        "id": "IWPUAnA-XNd8",
        "outputId": "2f83edb7-7b18-4c4a-e211-19693354d359"
      },
      "source": [
        "from keras.utils import np_utils\n",
        "encoded_y = np_utils.to_categorical(Y)\n",
        "encoded_y"
      ],
      "execution_count": 12,
      "outputs": [
        {
          "output_type": "execute_result",
          "data": {
            "text/plain": [
              "array([[0., 1.],\n",
              "       [1., 0.],\n",
              "       [0., 1.],\n",
              "       ...,\n",
              "       [1., 0.],\n",
              "       [0., 1.],\n",
              "       [1., 0.]], dtype=float32)"
            ]
          },
          "metadata": {},
          "execution_count": 12
        }
      ]
    },
    {
      "cell_type": "markdown",
      "metadata": {
        "id": "IeJWmMxjZbgo"
      },
      "source": [
        "**7. Split the dataset into training, testing and validation set**"
      ]
    },
    {
      "cell_type": "code",
      "metadata": {
        "colab": {
          "base_uri": "https://localhost:8080/"
        },
        "id": "3BqXnV1FXYIV",
        "outputId": "19bb19d1-8bd0-43ed-ac48-a1657ce4c986"
      },
      "source": [
        "from sklearn.model_selection import train_test_split\n",
        "X_training, X_testing, Y_training, Y_testing = train_test_split(X_scale, encoded_y, test_size=0.2, random_state=10)\n",
        "X_training, X_valid, Y_training, Y_valid = train_test_split(X_training, Y_training, test_size=0.2, random_state=10)\n",
        "print(len(X_training))\n",
        "print(len(X_testing))\n",
        "print(len(X_valid))"
      ],
      "execution_count": 13,
      "outputs": [
        {
          "output_type": "stream",
          "name": "stdout",
          "text": [
            "491\n",
            "154\n",
            "123\n"
          ]
        }
      ]
    },
    {
      "cell_type": "markdown",
      "metadata": {
        "id": "EH9IZizVZfKB"
      },
      "source": [
        "**8. Model Creation**"
      ]
    },
    {
      "cell_type": "code",
      "metadata": {
        "id": "hNfmvbMOXeku",
        "colab": {
          "base_uri": "https://localhost:8080/"
        },
        "outputId": "6e74ddb6-2353-4401-dfd6-9087c28df6e8"
      },
      "source": [
        "from keras.models import Sequential\n",
        "from keras.layers import Dense\n",
        "\n",
        "# Creating the model\n",
        "model = Sequential()\n",
        "model.add(Dense(24, input_shape=(8,), activation='relu'))\n",
        "model.add(Dense(20, activation='relu'))\n",
        "model.add(Dense(12, activation='relu'))\n",
        "model.add(Dense(8, activation='relu'))\n",
        "model.add(Dense(2, activation='softmax'))\n",
        "model.summary()   #gives a summary of the model"
      ],
      "execution_count": 37,
      "outputs": [
        {
          "output_type": "stream",
          "name": "stdout",
          "text": [
            "Model: \"sequential_4\"\n",
            "_________________________________________________________________\n",
            " Layer (type)                Output Shape              Param #   \n",
            "=================================================================\n",
            " dense_16 (Dense)            (None, 24)                216       \n",
            "                                                                 \n",
            " dense_17 (Dense)            (None, 20)                500       \n",
            "                                                                 \n",
            " dense_18 (Dense)            (None, 12)                252       \n",
            "                                                                 \n",
            " dense_19 (Dense)            (None, 8)                 104       \n",
            "                                                                 \n",
            " dense_20 (Dense)            (None, 2)                 18        \n",
            "                                                                 \n",
            "=================================================================\n",
            "Total params: 1,090\n",
            "Trainable params: 1,090\n",
            "Non-trainable params: 0\n",
            "_________________________________________________________________\n"
          ]
        }
      ]
    },
    {
      "cell_type": "markdown",
      "metadata": {
        "id": "iYxZHI_EZiEF"
      },
      "source": [
        "**9. Model Compile**"
      ]
    },
    {
      "cell_type": "code",
      "metadata": {
        "id": "plF2qlxwXiIY"
      },
      "source": [
        "from tensorflow.keras import optimizers\n",
        "opt=optimizers.SGD(learning_rate=0.01)\n",
        "model.compile(loss='categorical_crossentropy', optimizer=opt, metrics=['accuracy'])"
      ],
      "execution_count": 38,
      "outputs": []
    },
    {
      "cell_type": "markdown",
      "metadata": {
        "id": "E8VrUFVQZkNd"
      },
      "source": [
        "**10. Model Training**"
      ]
    },
    {
      "cell_type": "markdown",
      "source": [
        "if you have 1000 training examples, and your batch size is  500, then it will take 2 iterations to complete 1 epoch."
      ],
      "metadata": {
        "id": "08Ul5lN90_Sp"
      }
    },
    {
      "cell_type": "code",
      "metadata": {
        "colab": {
          "base_uri": "https://localhost:8080/"
        },
        "id": "xhDZ8yPhXrs0",
        "outputId": "d656886b-debf-48b7-f329-c86c5dd77712"
      },
      "source": [
        "hist = model.fit(X_training, Y_training,batch_size=4,  epochs=90, validation_data=(X_valid,Y_valid))"
      ],
      "execution_count": 39,
      "outputs": [
        {
          "output_type": "stream",
          "name": "stdout",
          "text": [
            "Epoch 1/90\n",
            "123/123 [==============================] - 1s 4ms/step - loss: 0.6559 - accuracy: 0.6680 - val_loss: 0.6614 - val_accuracy: 0.6260\n",
            "Epoch 2/90\n",
            "123/123 [==============================] - 0s 2ms/step - loss: 0.6372 - accuracy: 0.6680 - val_loss: 0.6602 - val_accuracy: 0.6260\n",
            "Epoch 3/90\n",
            "123/123 [==============================] - 0s 2ms/step - loss: 0.6317 - accuracy: 0.6680 - val_loss: 0.6591 - val_accuracy: 0.6260\n",
            "Epoch 4/90\n",
            "123/123 [==============================] - 0s 2ms/step - loss: 0.6285 - accuracy: 0.6680 - val_loss: 0.6558 - val_accuracy: 0.6260\n",
            "Epoch 5/90\n",
            "123/123 [==============================] - 0s 2ms/step - loss: 0.6243 - accuracy: 0.6680 - val_loss: 0.6522 - val_accuracy: 0.6260\n",
            "Epoch 6/90\n",
            "123/123 [==============================] - 0s 2ms/step - loss: 0.6166 - accuracy: 0.6680 - val_loss: 0.6438 - val_accuracy: 0.6260\n",
            "Epoch 7/90\n",
            "123/123 [==============================] - 0s 2ms/step - loss: 0.6063 - accuracy: 0.6680 - val_loss: 0.6408 - val_accuracy: 0.6260\n",
            "Epoch 8/90\n",
            "123/123 [==============================] - 0s 2ms/step - loss: 0.5927 - accuracy: 0.6680 - val_loss: 0.6195 - val_accuracy: 0.6423\n",
            "Epoch 9/90\n",
            "123/123 [==============================] - 0s 2ms/step - loss: 0.5780 - accuracy: 0.6843 - val_loss: 0.6058 - val_accuracy: 0.6829\n",
            "Epoch 10/90\n",
            "123/123 [==============================] - 0s 2ms/step - loss: 0.5674 - accuracy: 0.7047 - val_loss: 0.5928 - val_accuracy: 0.6829\n",
            "Epoch 11/90\n",
            "123/123 [==============================] - 0s 2ms/step - loss: 0.5505 - accuracy: 0.7230 - val_loss: 0.5831 - val_accuracy: 0.6911\n",
            "Epoch 12/90\n",
            "123/123 [==============================] - 0s 2ms/step - loss: 0.5374 - accuracy: 0.7271 - val_loss: 0.5660 - val_accuracy: 0.7073\n",
            "Epoch 13/90\n",
            "123/123 [==============================] - 0s 2ms/step - loss: 0.5250 - accuracy: 0.7413 - val_loss: 0.5476 - val_accuracy: 0.7154\n",
            "Epoch 14/90\n",
            "123/123 [==============================] - 0s 2ms/step - loss: 0.5123 - accuracy: 0.7352 - val_loss: 0.5686 - val_accuracy: 0.7236\n",
            "Epoch 15/90\n",
            "123/123 [==============================] - 0s 2ms/step - loss: 0.5054 - accuracy: 0.7556 - val_loss: 0.5280 - val_accuracy: 0.7398\n",
            "Epoch 16/90\n",
            "123/123 [==============================] - 0s 2ms/step - loss: 0.5080 - accuracy: 0.7475 - val_loss: 0.5168 - val_accuracy: 0.7317\n",
            "Epoch 17/90\n",
            "123/123 [==============================] - 0s 2ms/step - loss: 0.5008 - accuracy: 0.7413 - val_loss: 0.5091 - val_accuracy: 0.7236\n",
            "Epoch 18/90\n",
            "123/123 [==============================] - 0s 2ms/step - loss: 0.4948 - accuracy: 0.7393 - val_loss: 0.5043 - val_accuracy: 0.7480\n",
            "Epoch 19/90\n",
            "123/123 [==============================] - 0s 2ms/step - loss: 0.4901 - accuracy: 0.7637 - val_loss: 0.5262 - val_accuracy: 0.7561\n",
            "Epoch 20/90\n",
            "123/123 [==============================] - 0s 2ms/step - loss: 0.4940 - accuracy: 0.7495 - val_loss: 0.5039 - val_accuracy: 0.7561\n",
            "Epoch 21/90\n",
            "123/123 [==============================] - 0s 2ms/step - loss: 0.4919 - accuracy: 0.7556 - val_loss: 0.4925 - val_accuracy: 0.7561\n",
            "Epoch 22/90\n",
            "123/123 [==============================] - 0s 2ms/step - loss: 0.4791 - accuracy: 0.7495 - val_loss: 0.4946 - val_accuracy: 0.7561\n",
            "Epoch 23/90\n",
            "123/123 [==============================] - 0s 2ms/step - loss: 0.4857 - accuracy: 0.7637 - val_loss: 0.4969 - val_accuracy: 0.7642\n",
            "Epoch 24/90\n",
            "123/123 [==============================] - 0s 2ms/step - loss: 0.4829 - accuracy: 0.7434 - val_loss: 0.4876 - val_accuracy: 0.7561\n",
            "Epoch 25/90\n",
            "123/123 [==============================] - 0s 2ms/step - loss: 0.4885 - accuracy: 0.7413 - val_loss: 0.5598 - val_accuracy: 0.7317\n",
            "Epoch 26/90\n",
            "123/123 [==============================] - 0s 2ms/step - loss: 0.4852 - accuracy: 0.7556 - val_loss: 0.4872 - val_accuracy: 0.7642\n",
            "Epoch 27/90\n",
            "123/123 [==============================] - 0s 2ms/step - loss: 0.4810 - accuracy: 0.7617 - val_loss: 0.5025 - val_accuracy: 0.7724\n",
            "Epoch 28/90\n",
            "123/123 [==============================] - 0s 2ms/step - loss: 0.4801 - accuracy: 0.7536 - val_loss: 0.4794 - val_accuracy: 0.7480\n",
            "Epoch 29/90\n",
            "123/123 [==============================] - 0s 2ms/step - loss: 0.4788 - accuracy: 0.7597 - val_loss: 0.4826 - val_accuracy: 0.7724\n",
            "Epoch 30/90\n",
            "123/123 [==============================] - 0s 2ms/step - loss: 0.4749 - accuracy: 0.7800 - val_loss: 0.5096 - val_accuracy: 0.7805\n",
            "Epoch 31/90\n",
            "123/123 [==============================] - 0s 2ms/step - loss: 0.4780 - accuracy: 0.7658 - val_loss: 0.5169 - val_accuracy: 0.7886\n",
            "Epoch 32/90\n",
            "123/123 [==============================] - 0s 2ms/step - loss: 0.4806 - accuracy: 0.7576 - val_loss: 0.4777 - val_accuracy: 0.7480\n",
            "Epoch 33/90\n",
            "123/123 [==============================] - 0s 2ms/step - loss: 0.4729 - accuracy: 0.7576 - val_loss: 0.4755 - val_accuracy: 0.7724\n",
            "Epoch 34/90\n",
            "123/123 [==============================] - 0s 2ms/step - loss: 0.4771 - accuracy: 0.7576 - val_loss: 0.4985 - val_accuracy: 0.7886\n",
            "Epoch 35/90\n",
            "123/123 [==============================] - 0s 2ms/step - loss: 0.4791 - accuracy: 0.7495 - val_loss: 0.4717 - val_accuracy: 0.7886\n",
            "Epoch 36/90\n",
            "123/123 [==============================] - 0s 2ms/step - loss: 0.4774 - accuracy: 0.7719 - val_loss: 0.4796 - val_accuracy: 0.7805\n",
            "Epoch 37/90\n",
            "123/123 [==============================] - 0s 2ms/step - loss: 0.4744 - accuracy: 0.7576 - val_loss: 0.5324 - val_accuracy: 0.7236\n",
            "Epoch 38/90\n",
            "123/123 [==============================] - 0s 2ms/step - loss: 0.4718 - accuracy: 0.7658 - val_loss: 0.4872 - val_accuracy: 0.7724\n",
            "Epoch 39/90\n",
            "123/123 [==============================] - 0s 2ms/step - loss: 0.4718 - accuracy: 0.7597 - val_loss: 0.5263 - val_accuracy: 0.7561\n",
            "Epoch 40/90\n",
            "123/123 [==============================] - 0s 2ms/step - loss: 0.4641 - accuracy: 0.7576 - val_loss: 0.4825 - val_accuracy: 0.7642\n",
            "Epoch 41/90\n",
            "123/123 [==============================] - 0s 2ms/step - loss: 0.4733 - accuracy: 0.7719 - val_loss: 0.4964 - val_accuracy: 0.7967\n",
            "Epoch 42/90\n",
            "123/123 [==============================] - 0s 2ms/step - loss: 0.4698 - accuracy: 0.7678 - val_loss: 0.4846 - val_accuracy: 0.7967\n",
            "Epoch 43/90\n",
            "123/123 [==============================] - 0s 2ms/step - loss: 0.4672 - accuracy: 0.7556 - val_loss: 0.4917 - val_accuracy: 0.7967\n",
            "Epoch 44/90\n",
            "123/123 [==============================] - 0s 2ms/step - loss: 0.4674 - accuracy: 0.7475 - val_loss: 0.4710 - val_accuracy: 0.7724\n",
            "Epoch 45/90\n",
            "123/123 [==============================] - 0s 2ms/step - loss: 0.4667 - accuracy: 0.7576 - val_loss: 0.4737 - val_accuracy: 0.7642\n",
            "Epoch 46/90\n",
            "123/123 [==============================] - 0s 2ms/step - loss: 0.4671 - accuracy: 0.7760 - val_loss: 0.4944 - val_accuracy: 0.7805\n",
            "Epoch 47/90\n",
            "123/123 [==============================] - 0s 2ms/step - loss: 0.4646 - accuracy: 0.7536 - val_loss: 0.4735 - val_accuracy: 0.7724\n",
            "Epoch 48/90\n",
            "123/123 [==============================] - 0s 2ms/step - loss: 0.4653 - accuracy: 0.7597 - val_loss: 0.4957 - val_accuracy: 0.7805\n",
            "Epoch 49/90\n",
            "123/123 [==============================] - 0s 2ms/step - loss: 0.4693 - accuracy: 0.7699 - val_loss: 0.4809 - val_accuracy: 0.7642\n",
            "Epoch 50/90\n",
            "123/123 [==============================] - 0s 2ms/step - loss: 0.4611 - accuracy: 0.7678 - val_loss: 0.5195 - val_accuracy: 0.7886\n",
            "Epoch 51/90\n",
            "123/123 [==============================] - 0s 2ms/step - loss: 0.4706 - accuracy: 0.7739 - val_loss: 0.5063 - val_accuracy: 0.7886\n",
            "Epoch 52/90\n",
            "123/123 [==============================] - 0s 2ms/step - loss: 0.4685 - accuracy: 0.7495 - val_loss: 0.4730 - val_accuracy: 0.7886\n",
            "Epoch 53/90\n",
            "123/123 [==============================] - 0s 2ms/step - loss: 0.4644 - accuracy: 0.7719 - val_loss: 0.5188 - val_accuracy: 0.7642\n",
            "Epoch 54/90\n",
            "123/123 [==============================] - 0s 2ms/step - loss: 0.4614 - accuracy: 0.7536 - val_loss: 0.4746 - val_accuracy: 0.7724\n",
            "Epoch 55/90\n",
            "123/123 [==============================] - 0s 2ms/step - loss: 0.4559 - accuracy: 0.7678 - val_loss: 0.4712 - val_accuracy: 0.7805\n",
            "Epoch 56/90\n",
            "123/123 [==============================] - 0s 2ms/step - loss: 0.4611 - accuracy: 0.7719 - val_loss: 0.4675 - val_accuracy: 0.7886\n",
            "Epoch 57/90\n",
            "123/123 [==============================] - 0s 2ms/step - loss: 0.4604 - accuracy: 0.7597 - val_loss: 0.4790 - val_accuracy: 0.7805\n",
            "Epoch 58/90\n",
            "123/123 [==============================] - 0s 2ms/step - loss: 0.4621 - accuracy: 0.7699 - val_loss: 0.4886 - val_accuracy: 0.7886\n",
            "Epoch 59/90\n",
            "123/123 [==============================] - 0s 2ms/step - loss: 0.4558 - accuracy: 0.7658 - val_loss: 0.4805 - val_accuracy: 0.7642\n",
            "Epoch 60/90\n",
            "123/123 [==============================] - 0s 2ms/step - loss: 0.4585 - accuracy: 0.7556 - val_loss: 0.4981 - val_accuracy: 0.7805\n",
            "Epoch 61/90\n",
            "123/123 [==============================] - 0s 2ms/step - loss: 0.4558 - accuracy: 0.7739 - val_loss: 0.4724 - val_accuracy: 0.7967\n",
            "Epoch 62/90\n",
            "123/123 [==============================] - 0s 2ms/step - loss: 0.4585 - accuracy: 0.7597 - val_loss: 0.4712 - val_accuracy: 0.7967\n",
            "Epoch 63/90\n",
            "123/123 [==============================] - 0s 2ms/step - loss: 0.4634 - accuracy: 0.7556 - val_loss: 0.5120 - val_accuracy: 0.7886\n",
            "Epoch 64/90\n",
            "123/123 [==============================] - 0s 2ms/step - loss: 0.4619 - accuracy: 0.7515 - val_loss: 0.4826 - val_accuracy: 0.7886\n",
            "Epoch 65/90\n",
            "123/123 [==============================] - 0s 2ms/step - loss: 0.4509 - accuracy: 0.7576 - val_loss: 0.5149 - val_accuracy: 0.7886\n",
            "Epoch 66/90\n",
            "123/123 [==============================] - 0s 2ms/step - loss: 0.4530 - accuracy: 0.7821 - val_loss: 0.4725 - val_accuracy: 0.7967\n",
            "Epoch 67/90\n",
            "123/123 [==============================] - 0s 2ms/step - loss: 0.4573 - accuracy: 0.7536 - val_loss: 0.4719 - val_accuracy: 0.7886\n",
            "Epoch 68/90\n",
            "123/123 [==============================] - 0s 2ms/step - loss: 0.4566 - accuracy: 0.7719 - val_loss: 0.4801 - val_accuracy: 0.8049\n",
            "Epoch 69/90\n",
            "123/123 [==============================] - 0s 2ms/step - loss: 0.4572 - accuracy: 0.7576 - val_loss: 0.4732 - val_accuracy: 0.8049\n",
            "Epoch 70/90\n",
            "123/123 [==============================] - 0s 2ms/step - loss: 0.4545 - accuracy: 0.7617 - val_loss: 0.4819 - val_accuracy: 0.7805\n",
            "Epoch 71/90\n",
            "123/123 [==============================] - 0s 2ms/step - loss: 0.4542 - accuracy: 0.7597 - val_loss: 0.4719 - val_accuracy: 0.7886\n",
            "Epoch 72/90\n",
            "123/123 [==============================] - 0s 2ms/step - loss: 0.4542 - accuracy: 0.7475 - val_loss: 0.5219 - val_accuracy: 0.7642\n",
            "Epoch 73/90\n",
            "123/123 [==============================] - 0s 2ms/step - loss: 0.4595 - accuracy: 0.7576 - val_loss: 0.4693 - val_accuracy: 0.7967\n",
            "Epoch 74/90\n",
            "123/123 [==============================] - 0s 2ms/step - loss: 0.4543 - accuracy: 0.7658 - val_loss: 0.4728 - val_accuracy: 0.8211\n",
            "Epoch 75/90\n",
            "123/123 [==============================] - 0s 2ms/step - loss: 0.4546 - accuracy: 0.7597 - val_loss: 0.4863 - val_accuracy: 0.7805\n",
            "Epoch 76/90\n",
            "123/123 [==============================] - 0s 2ms/step - loss: 0.4492 - accuracy: 0.7637 - val_loss: 0.5137 - val_accuracy: 0.7805\n",
            "Epoch 77/90\n",
            "123/123 [==============================] - 0s 2ms/step - loss: 0.4523 - accuracy: 0.7658 - val_loss: 0.4861 - val_accuracy: 0.7642\n",
            "Epoch 78/90\n",
            "123/123 [==============================] - 0s 2ms/step - loss: 0.4498 - accuracy: 0.7760 - val_loss: 0.4956 - val_accuracy: 0.7724\n",
            "Epoch 79/90\n",
            "123/123 [==============================] - 0s 2ms/step - loss: 0.4380 - accuracy: 0.7841 - val_loss: 0.5386 - val_accuracy: 0.7317\n",
            "Epoch 80/90\n",
            "123/123 [==============================] - 0s 2ms/step - loss: 0.4495 - accuracy: 0.7780 - val_loss: 0.4777 - val_accuracy: 0.8130\n",
            "Epoch 81/90\n",
            "123/123 [==============================] - 0s 2ms/step - loss: 0.4523 - accuracy: 0.7658 - val_loss: 0.4863 - val_accuracy: 0.7724\n",
            "Epoch 82/90\n",
            "123/123 [==============================] - 0s 2ms/step - loss: 0.4515 - accuracy: 0.7597 - val_loss: 0.5215 - val_accuracy: 0.7886\n",
            "Epoch 83/90\n",
            "123/123 [==============================] - 0s 2ms/step - loss: 0.4434 - accuracy: 0.7760 - val_loss: 0.5014 - val_accuracy: 0.7642\n",
            "Epoch 84/90\n",
            "123/123 [==============================] - 0s 2ms/step - loss: 0.4463 - accuracy: 0.7719 - val_loss: 0.4767 - val_accuracy: 0.7967\n",
            "Epoch 85/90\n",
            "123/123 [==============================] - 0s 2ms/step - loss: 0.4449 - accuracy: 0.7780 - val_loss: 0.4730 - val_accuracy: 0.8049\n",
            "Epoch 86/90\n",
            "123/123 [==============================] - 0s 2ms/step - loss: 0.4550 - accuracy: 0.7434 - val_loss: 0.5002 - val_accuracy: 0.7805\n",
            "Epoch 87/90\n",
            "123/123 [==============================] - 0s 2ms/step - loss: 0.4452 - accuracy: 0.7739 - val_loss: 0.4819 - val_accuracy: 0.7886\n",
            "Epoch 88/90\n",
            "123/123 [==============================] - 0s 2ms/step - loss: 0.4425 - accuracy: 0.7597 - val_loss: 0.4969 - val_accuracy: 0.7561\n",
            "Epoch 89/90\n",
            "123/123 [==============================] - 0s 2ms/step - loss: 0.4522 - accuracy: 0.7637 - val_loss: 0.4900 - val_accuracy: 0.7724\n",
            "Epoch 90/90\n",
            "123/123 [==============================] - 0s 2ms/step - loss: 0.4494 - accuracy: 0.7678 - val_loss: 0.4759 - val_accuracy: 0.7967\n"
          ]
        }
      ]
    },
    {
      "cell_type": "markdown",
      "metadata": {
        "id": "80o1i3fzZsA-"
      },
      "source": [
        "**11. Plot the training loss and accuracy**"
      ]
    },
    {
      "cell_type": "code",
      "source": [
        "import matplotlib.pyplot as plt \n",
        "acc = hist.history['accuracy']\n",
        "val_acc = hist.history['val_accuracy']\n",
        "loss = hist.history['loss']\n",
        "val_loss = hist.history['val_loss']\n",
        " \n",
        "epochs = range(len(acc))\n",
        " \n",
        "plt.plot(epochs, acc, 'b', label='Training acc')\n",
        "plt.plot(epochs, val_acc, 'r', label='Validation acc')\n",
        "plt.title('Training and validation accuracy')\n",
        "plt.legend()\n",
        "plt.savefig('custom_trainvalacc.png')\n",
        "plt.figure()\n",
        " \n",
        "plt.plot(epochs, loss, 'b', label='Training loss')\n",
        "plt.plot(epochs, val_loss, 'r', label='Validation loss')\n",
        "plt.title('Training and validation loss')\n",
        "plt.legend()\n",
        " \n",
        "#plt.show()\n",
        "plt.savefig('custom_trainvalloss.png')\n",
        "plt.figure()"
      ],
      "metadata": {
        "colab": {
          "base_uri": "https://localhost:8080/",
          "height": 582
        },
        "id": "69dOEi6HAiXT",
        "outputId": "7bc82e62-225e-4d61-a914-36491bd637a6"
      },
      "execution_count": 40,
      "outputs": [
        {
          "output_type": "execute_result",
          "data": {
            "text/plain": [
              "<Figure size 432x288 with 0 Axes>"
            ]
          },
          "metadata": {},
          "execution_count": 40
        },
        {
          "output_type": "display_data",
          "data": {
            "text/plain": [
              "<Figure size 432x288 with 1 Axes>"
            ],
            "image/png": "[encoded data removed]"
          },
          "metadata": {
            "needs_background": "light"
          }
        },
        {
          "output_type": "display_data",
          "data": {
            "text/plain": [
              "<Figure size 432x288 with 1 Axes>"
            ],
            "image/png": "[encoded data removed]"
          },
          "metadata": {
            "needs_background": "light"
          }
        },
        {
          "output_type": "display_data",
          "data": {
            "text/plain": [
              "<Figure size 432x288 with 0 Axes>"
            ]
          },
          "metadata": {}
        }
      ]
    },
    {
      "cell_type": "markdown",
      "metadata": {
        "id": "a8fUXoqeZvwf"
      },
      "source": [
        "**12. Evaluate the performance**"
      ]
    },
    {
      "cell_type": "code",
      "metadata": {
        "colab": {
          "base_uri": "https://localhost:8080/"
        },
        "id": "wawHhkURYMLE",
        "outputId": "fdaaa158-0762-4e36-9717-153ab2f7d679"
      },
      "source": [
        "res =model.evaluate(X_testing, Y_testing)"
      ],
      "execution_count": 41,
      "outputs": [
        {
          "output_type": "stream",
          "name": "stdout",
          "text": [
            "5/5 [==============================] - 0s 2ms/step - loss: 0.4845 - accuracy: 0.7468\n"
          ]
        }
      ]
    },
    {
      "cell_type": "markdown",
      "metadata": {
        "id": "0WCSw36oZyG_"
      },
      "source": [
        "**13. Predict on new datatset**\n"
      ]
    },
    {
      "cell_type": "code",
      "metadata": {
        "colab": {
          "base_uri": "https://localhost:8080/"
        },
        "id": "CcE27mGFYo3G",
        "outputId": "3bbc03c3-9f9a-45f4-85ae-79210f2ede54"
      },
      "source": [
        "test=X_testing[0]\n",
        "y_act=Y_testing[0]\n",
        "result=model.predict(test.reshape(1,8))\n",
        "result"
      ],
      "execution_count": 42,
      "outputs": [
        {
          "output_type": "execute_result",
          "data": {
            "text/plain": [
              "array([[0.377383, 0.622617]], dtype=float32)"
            ]
          },
          "metadata": {},
          "execution_count": 42
        }
      ]
    },
    {
      "cell_type": "code",
      "metadata": {
        "colab": {
          "base_uri": "https://localhost:8080/"
        },
        "id": "T4RDC-ZHYqv_",
        "outputId": "8b4efaef-d7ac-4860-84eb-6c1672511401"
      },
      "source": [
        "import numpy as np\n",
        "y_pred = np.round(result)\n",
        "print(\"Actual:\"+ str(y_act))\n",
        "print(\"Predicted:\"+str(y_pred))"
      ],
      "execution_count": 43,
      "outputs": [
        {
          "output_type": "stream",
          "name": "stdout",
          "text": [
            "Actual:[1. 0.]\n",
            "Predicted:[[0. 1.]]\n"
          ]
        }
      ]
    },
    {
      "cell_type": "markdown",
      "metadata": {
        "id": "E9mMqJtXYz2Q"
      },
      "source": [
        "**Reference:** - https://keras.io/"
      ]
    }
  ]
}